{
 "cells": [
  {
   "cell_type": "markdown",
   "metadata": {},
   "source": [
    "Import potrzebnych bibliotek"
   ]
  },
  {
   "cell_type": "code",
   "execution_count": null,
   "metadata": {},
   "outputs": [],
   "source": [
    "import numpy as np\n",
    "from matplotlib import pyplot as plt\n",
    "import keras\n",
    "from sklearn import datasets\n",
    "from keras.models import Sequential\n",
    "from keras.layers import Dense\n",
    "from keras.optimizers import Adam"
   ]
  },
  {
   "cell_type": "code",
   "execution_count": null,
   "metadata": {},
   "outputs": [],
   "source": [
    "np.random.seed(0)"
   ]
  },
  {
   "cell_type": "code",
   "execution_count": null,
   "metadata": {},
   "outputs": [],
   "source": [
    "n_pts = 500 # liczba punktów\n",
    "X, y = datasets.make_circles(n_pts, random_state=123, noise=0.1, factor=0.2) # tworzenie naszego zbioru danych"
   ]
  },
  {
   "cell_type": "markdown",
   "metadata": {},
   "source": [
    "`y` - **Labels**, opisuje czy dany punkt z zbioru X zanjduje się w części pozytywnej lub nie (0 lub 1) \\\n",
    "`X` - **zbiór danych**, opisuje nasze punkty x1,x2 w przestrzeni 2d\n"
   ]
  },
  {
   "cell_type": "code",
   "execution_count": null,
   "metadata": {},
   "outputs": [],
   "source": [
    "plt.scatter(X[y==0, 0], X[y==0, 1])\n",
    "plt.scatter(X[y==1, 0], X[y==1, 1], color=\"green\")\n"
   ]
  },
  {
   "cell_type": "markdown",
   "metadata": {},
   "source": [
    "***\n",
    "Tworzenie modelu\n",
    "***"
   ]
  },
  {
   "cell_type": "code",
   "execution_count": null,
   "metadata": {},
   "outputs": [],
   "source": [
    "\n",
    "model = Sequential()\n",
    "model.add(Dense(4,input_shape=(2,), activation='sigmoid')) # tworzymy predykcje z 4 neuronami o rozmiarze wejscia 2 i funkcji aktywacyjnej Sigmoid\n",
    "model.add(Dense(1, activation='sigmoid')) # Tworzenie wyjscia pojedynczego z funkcja aktywacyjna sigmoid\n",
    "model.compile(Adam(lr = 0.01), 'binary_crossentropy', metrics=['accuracy']) # Tworzenie optimazera (do obliczania i zmniejszania bledu - accuracy - dopasowanie)\n"
   ]
  },
  {
   "cell_type": "code",
   "execution_count": null,
   "metadata": {},
   "outputs": [],
   "source": [
    "h = model.fit(x=X,y=y, verbose=1, batch_size=20, epochs=100,  shuffle='true')"
   ]
  },
  {
   "cell_type": "code",
   "execution_count": null,
   "metadata": {},
   "outputs": [],
   "source": [
    "plt.plot(h.history['accuracy'])\n",
    "plt.xlabel(\"epochs\")\n",
    "plt.legend('accuracy')\n",
    "plt.title(\"Accuracy\")"
   ]
  },
  {
   "cell_type": "code",
   "execution_count": null,
   "metadata": {},
   "outputs": [],
   "source": [
    "plt.plot(h.history['loss'], color=\"red\")\n",
    "plt.xlabel(\"epochs\")\n",
    "plt.legend('loss')\n",
    "plt.title(\"Loss\")"
   ]
  },
  {
   "cell_type": "code",
   "execution_count": null,
   "metadata": {},
   "outputs": [],
   "source": [
    "def plot_decision_boundary(X,y, model):\n",
    "    x_span = np.linspace(min(X[:,0])-0.25, max(X[:,0])+0.25, 50)\n",
    "    y_span = np.linspace(min(X[:,1])-0.25, max(X[:,1])+0.25, 50) #tworzenie przestrzeni naszego wykresu w OSI X i Y\n",
    "    xx, yy = np.meshgrid(x_span, y_span) #tworzy macierz o rozmiarze wektora n , macierz nxn gdzie jedna kolumna badz wiersz maja takie same wartosci\n",
    "    # print(xx,'\\n',yy)\n",
    "    xx_, yy_ = xx.ravel(), yy.ravel() # ravel robi z macierzy wektor jednowymiarowy\n",
    "    grid = np.c_[xx_, yy_]\n",
    "    pred_func = model.predict(grid)\n",
    "    z = pred_func.reshape(xx.shape)\n",
    "    plt.contourf(xx, yy, z)"
   ]
  },
  {
   "cell_type": "code",
   "execution_count": null,
   "metadata": {},
   "outputs": [],
   "source": [
    "plot_decision_boundary(X,y, model)\n",
    "plt.scatter(X[:n_pts,0], X[:n_pts,1])\n",
    "plt.scatter(X[n_pts:,0], X[n_pts:,1])"
   ]
  },
  {
   "cell_type": "code",
   "execution_count": null,
   "metadata": {},
   "outputs": [],
   "source": [
    "plot_decision_boundary(X,y, model)\n",
    "plt.scatter(X[:n_pts,0], X[:n_pts,1])\n",
    "plt.scatter(X[n_pts:,0], X[n_pts:,1])\n",
    "x = 0.28\n",
    "y = -0.14\n",
    "point = np.array([[x, y]])\n",
    "prediction = model.predict(point)\n",
    "plt.plot([x], [y], marker=\"o\", markersize=10, color=\"r\")\n",
    "print(\"prediction is: \", prediction)"
   ]
  }
 ],
 "metadata": {
  "kernelspec": {
   "display_name": "Python 3.10.7 64-bit",
   "language": "python",
   "name": "python3"
  },
  "language_info": {
   "codemirror_mode": {
    "name": "ipython",
    "version": 3
   },
   "file_extension": ".py",
   "mimetype": "text/x-python",
   "name": "python",
   "nbconvert_exporter": "python",
   "pygments_lexer": "ipython3",
   "version": "3.10.7"
  },
  "orig_nbformat": 4,
  "vscode": {
   "interpreter": {
    "hash": "32b5bd18f3c3c9d35605d7aa5e759cc7e855606e2310e1ed54fb2b4793ccab0f"
   }
  }
 },
 "nbformat": 4,
 "nbformat_minor": 2
}
